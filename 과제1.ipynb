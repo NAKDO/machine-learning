{
  "nbformat": 4,
  "nbformat_minor": 0,
  "metadata": {
    "colab": {
      "provenance": [],
      "authorship_tag": "ABX9TyPMPjMENhJMspQQUIKM2nnn",
      "include_colab_link": true
    },
    "kernelspec": {
      "name": "python3",
      "display_name": "Python 3"
    },
    "language_info": {
      "name": "python"
    }
  },
  "cells": [
    {
      "cell_type": "markdown",
      "metadata": {
        "id": "view-in-github",
        "colab_type": "text"
      },
      "source": [
        "<a href=\"https://colab.research.google.com/github/NAKDO/machine-learning/blob/main/%EA%B3%BC%EC%A0%9C1.ipynb\" target=\"_parent\"><img src=\"https://colab.research.google.com/assets/colab-badge.svg\" alt=\"Open In Colab\"/></a>"
      ]
    },
    {
      "cell_type": "markdown",
      "source": [
        "# 과제 1 201935213 김낙도"
      ],
      "metadata": {
        "id": "J7XZHAJzExbq"
      }
    },
    {
      "cell_type": "code",
      "source": [
        "import pandas as pd\n",
        "import numpy as np\n",
        "from sklearn.model_selection import train_test_split\n",
        "from sklearn.preprocessing import StandardScaler\n",
        "from sklearn.impute import SimpleImputer\n",
        "from sklearn.pipeline import Pipeline\n",
        "from sklearn.model_selection import GridSearchCV\n",
        "from sklearn.ensemble import RandomForestClassifier, HistGradientBoostingClassifier\n",
        "from sklearn.preprocessing import LabelEncoder, OneHotEncoder"
      ],
      "metadata": {
        "id": "f0wN5ZiwrhtS"
      },
      "execution_count": 24,
      "outputs": []
    },
    {
      "cell_type": "markdown",
      "source": [
        "#데이터 불러오기 & 전처리"
      ],
      "metadata": {
        "id": "WBadmGCpE21B"
      }
    },
    {
      "cell_type": "code",
      "source": [
        "# 데이터 불러오기\n",
        "train_data = pd.read_csv(\"/content/train.csv\")\n",
        "test_data = pd.read_csv(\"/content/test.csv\")\n",
        "\n",
        "# 훈련 데이터와 테스트 데이터를 합쳐서 데이터 전처리를 한 번에 수행\n",
        "all_data = pd.concat([train_data, test_data])"
      ],
      "metadata": {
        "id": "j3mknM_lE6pE"
      },
      "execution_count": 25,
      "outputs": []
    },
    {
      "cell_type": "markdown",
      "source": [
        "# NaN 값 처리\n",
        "1.Embarked와 Fare 열의 NaN 값 처리\n",
        "\n",
        "SimpleImputer를 사용하여 'Embarked'와 'Fare' 열의 NaN 값을 대체했습니다. strategy='most_frequent'로 설정하여 'Embarked' 열의 NaN 값을 가장 빈번하게 나타나는 값으로 대체하고, 'Fare' 열의 NaN 값을 역시 가장 빈번하게 나타나는 값으로 대체했습니다.\n",
        "\n",
        "2.Age 열의 NaN 값 처리:\n",
        "\n",
        "SimpleImputer를 사용하여 'Age' 열의 NaN 값을 중간값(median)으로 대체했습니다. strategy='median'으로 설정하여 'Age' 열의 NaN 값을 중간값으로 대체하였습니다."
      ],
      "metadata": {
        "id": "ohWKnzXdE_vV"
      }
    },
    {
      "cell_type": "code",
      "source": [
        "# NaN 값 처리\n",
        "imputer = SimpleImputer(strategy='most_frequent')\n",
        "all_data['Embarked'] = imputer.fit_transform(all_data['Embarked'].values.reshape(-1, 1))\n",
        "all_data['Fare'] = imputer.fit_transform(all_data['Fare'].values.reshape(-1, 1))"
      ],
      "metadata": {
        "id": "rWpax0buFdnb"
      },
      "execution_count": 26,
      "outputs": []
    },
    {
      "cell_type": "code",
      "source": [
        "# 나이는 중간값으로 대체\n",
        "age_imputer = SimpleImputer(strategy='median')\n",
        "all_data['Age'] = age_imputer.fit_transform(all_data['Age'].values.reshape(-1, 1))\n",
        "\n",
        "# Cabin 특성은 너무 많은 결측값이 있어 제외\n",
        "all_data.drop('Cabin', axis=1, inplace=True)\n",
        "\n",
        "# 특성 공학: 이름에서 호칭 추출\n",
        "all_data['Title'] = all_data['Name'].str.extract(' ([A-Za-z]+)\\.', expand=False)\n",
        "all_data['Title'] = all_data['Title'].replace(['Lady', 'Countess','Capt', 'Col', 'Don', 'Dr', 'Major', 'Rev', 'Sir', 'Jonkheer', 'Dona'], 'Rare')\n",
        "all_data['Title'] = all_data['Title'].replace('Mlle', 'Miss')\n",
        "all_data['Title'] = all_data['Title'].replace('Ms', 'Miss')\n",
        "all_data['Title'] = all_data['Title'].replace('Mme', 'Mrs')\n",
        "title_mapping = {\"Mr\": 1, \"Miss\": 2, \"Mrs\": 3, \"Master\": 4, \"Rare\": 5}\n",
        "all_data['Title'] = all_data['Title'].map(title_mapping)\n",
        "all_data['Title'] = all_data['Title'].fillna(0)\n",
        "\n",
        "# 가족 크기 파생 특성 생성\n",
        "all_data['FamilySize'] = all_data['SibSp'] + all_data['Parch'] + 1"
      ],
      "metadata": {
        "id": "QuvNxpZaF5R-"
      },
      "execution_count": 27,
      "outputs": []
    },
    {
      "cell_type": "markdown",
      "source": [
        "train.csv에 Sex변수가 Sex_male로 되어 있어서 Sex_male로 바꿔주었음."
      ],
      "metadata": {
        "id": "lWwIkdpYGAqv"
      }
    },
    {
      "cell_type": "code",
      "source": [
        "# 필요한 열 선택\n",
        "selected_features = ['Pclass_2', 'Pclass_3', 'Age', 'SibSp', 'Parch', 'Fare', 'Embarked_Q', 'Embarked_S', 'Sex_male']\n",
        "\n",
        "# 원핫 인코딩\n",
        "all_data = pd.get_dummies(all_data, columns=['Sex', 'Pclass', 'Embarked'], drop_first=True)"
      ],
      "metadata": {
        "id": "QsES-OK-F6m-"
      },
      "execution_count": 28,
      "outputs": []
    },
    {
      "cell_type": "markdown",
      "source": [
        "## 데이터 분할"
      ],
      "metadata": {
        "id": "0KAFrhCIGi-A"
      }
    },
    {
      "cell_type": "code",
      "source": [
        "# 데이터 분할\n",
        "X_train = all_data[:len(train_data)]\n",
        "X_test = all_data[len(train_data):]\n",
        "y_train = train_data['Survived']\n",
        "\n",
        "# 훈련 및 테스트 데이터 분할\n",
        "X_train, X_val, y_train, y_val = train_test_split(X_train, y_train, test_size=0.2, random_state=201935213)"
      ],
      "metadata": {
        "id": "ABJSDsAwGlJI"
      },
      "execution_count": 29,
      "outputs": []
    },
    {
      "cell_type": "markdown",
      "source": [
        "### 표준 스케일링"
      ],
      "metadata": {
        "id": "RkO1qYvIGpTD"
      }
    },
    {
      "cell_type": "code",
      "source": [
        "label_encoder = LabelEncoder()\n",
        "X_train['Sex_male'] = label_encoder.fit_transform(X_train['Sex_male'])\n",
        "X_val['Sex_male'] = label_encoder.transform(X_val['Sex_male'])\n",
        "X_test['Sex_male'] = label_encoder.transform(X_test['Sex_male'])\n",
        "\n",
        "# 표준 스케일링\n",
        "scaler = StandardScaler()\n",
        "X_train[selected_features] = scaler.fit_transform(X_train[selected_features])\n",
        "X_val[selected_features] = scaler.transform(X_val[selected_features])\n",
        "X_test[selected_features] = scaler.transform(X_test[selected_features])"
      ],
      "metadata": {
        "colab": {
          "base_uri": "https://localhost:8080/"
        },
        "id": "rrvsUSQFGoeF",
        "outputId": "785ec7e7-9846-4213-d4ac-029e93996848"
      },
      "execution_count": 30,
      "outputs": [
        {
          "output_type": "stream",
          "name": "stderr",
          "text": [
            "<ipython-input-30-0beca1788ae8>:4: SettingWithCopyWarning: \n",
            "A value is trying to be set on a copy of a slice from a DataFrame.\n",
            "Try using .loc[row_indexer,col_indexer] = value instead\n",
            "\n",
            "See the caveats in the documentation: https://pandas.pydata.org/pandas-docs/stable/user_guide/indexing.html#returning-a-view-versus-a-copy\n",
            "  X_test['Sex_male'] = label_encoder.transform(X_test['Sex_male'])\n",
            "<ipython-input-30-0beca1788ae8>:10: SettingWithCopyWarning: \n",
            "A value is trying to be set on a copy of a slice from a DataFrame.\n",
            "Try using .loc[row_indexer,col_indexer] = value instead\n",
            "\n",
            "See the caveats in the documentation: https://pandas.pydata.org/pandas-docs/stable/user_guide/indexing.html#returning-a-view-versus-a-copy\n",
            "  X_test[selected_features] = scaler.transform(X_test[selected_features])\n"
          ]
        }
      ]
    },
    {
      "cell_type": "markdown",
      "source": [
        "# SGD 분류\n",
        "SGDClassifier 모델을 생성하고 훈련 데이터로 모델을 훈련시키며, 훈련 및 검증 데이터에 대한 정확도를 출력합니다. 이를 통해 모델의 성능을 확인할 수 있습니다. 나중에 하이퍼파라미터 최적화를 위한 그리드 서치 또는 랜덤 서치를 적용할 수 있습니다."
      ],
      "metadata": {
        "id": "QLFPXMEXxmAc"
      }
    },
    {
      "cell_type": "code",
      "source": [
        "from sklearn.linear_model import SGDClassifier\n",
        "from sklearn.metrics import accuracy_score\n",
        "\n",
        "# SGDClassifier 모델 생성\n",
        "sgd_model = SGDClassifier(random_state=201935213)\n",
        "\n",
        "# 모델 훈련\n",
        "sgd_model.fit(X_train[selected_features], y_train)\n",
        "\n",
        "# 훈련 데이터에 대한 예측\n",
        "train_predictions = sgd_model.predict(X_train[selected_features])\n",
        "\n",
        "# 검증 데이터에 대한 예측\n",
        "val_predictions = sgd_model.predict(X_val[selected_features])\n",
        "\n",
        "# 정확도 출력\n",
        "train_accuracy = accuracy_score(y_train, train_predictions)\n",
        "val_accuracy = accuracy_score(y_val, val_predictions)\n",
        "\n",
        "print(\"훈련 데이터 정확도:\", train_accuracy)\n",
        "print(\"검증 데이터 정확도:\", val_accuracy)\n",
        "\n"
      ],
      "metadata": {
        "colab": {
          "base_uri": "https://localhost:8080/"
        },
        "id": "HrCuZ8amxLJI",
        "outputId": "b92bd1fd-88d9-4de2-b97d-57213f5c5a4d"
      },
      "execution_count": 19,
      "outputs": [
        {
          "output_type": "stream",
          "name": "stdout",
          "text": [
            "훈련 데이터 정확도: 0.7471910112359551\n",
            "검증 데이터 정확도: 0.8156424581005587\n"
          ]
        }
      ]
    },
    {
      "cell_type": "markdown",
      "source": [
        "# 결정트리\n",
        "결정 트리 분류기 모델을 생성하고 훈련 데이터로 모델을 훈련시키며, 훈련 및 검증 데이터에 대한 정확도를 출력합니다. 이를 통해 모델의 성능을 확인할 수 있습니다. 나중에 하이퍼파라미터 최적화를 위해 그리드 서치 또는 랜덤 서치를 적용할 수 있습니다."
      ],
      "metadata": {
        "id": "_hjDE06JyhkK"
      }
    },
    {
      "cell_type": "code",
      "source": [
        "from sklearn.tree import DecisionTreeClassifier\n",
        "\n",
        "# 결정 트리 분류기 모델 생성\n",
        "decision_tree_model = DecisionTreeClassifier(random_state=201935213)\n",
        "\n",
        "# 모델 훈련\n",
        "decision_tree_model.fit(X_train[selected_features], y_train)\n",
        "\n",
        "# 훈련 데이터에 대한 예측\n",
        "train_predictions = decision_tree_model.predict(X_train[selected_features])\n",
        "\n",
        "# 검증 데이터에 대한 예측\n",
        "val_predictions = decision_tree_model.predict(X_val[selected_features])\n",
        "\n",
        "# 정확도 출력\n",
        "train_accuracy = accuracy_score(y_train, train_predictions)\n",
        "val_accuracy = accuracy_score(y_val, val_predictions)\n",
        "\n",
        "print(\"훈련 데이터 정확도:\", train_accuracy)\n",
        "print(\"검증 데이터 정확도:\", val_accuracy)\n"
      ],
      "metadata": {
        "colab": {
          "base_uri": "https://localhost:8080/"
        },
        "id": "Vzq-VC6GyZNL",
        "outputId": "a9ca1bd0-4928-417a-a234-41714223b9ad"
      },
      "execution_count": 20,
      "outputs": [
        {
          "output_type": "stream",
          "name": "stdout",
          "text": [
            "훈련 데이터 정확도: 0.9803370786516854\n",
            "검증 데이터 정확도: 0.8156424581005587\n"
          ]
        }
      ]
    },
    {
      "cell_type": "markdown",
      "source": [
        "# 랜덤포래스트\n",
        "랜덤 포레스트 분류기 모델을 생성하고 훈련 데이터로 모델을 훈련시키며, 훈련 및 검증 데이터에 대한 정확도를 출력합니다. 이를 통해 모델의 성능을 확인할 수 있습니다. 나중에 하이퍼파라미터 최적화를 위해 그리드 서치 또는 랜덤 서치를 적용할 수 있습니다"
      ],
      "metadata": {
        "id": "ndFXDkXszQL7"
      }
    },
    {
      "cell_type": "code",
      "source": [
        "from sklearn.ensemble import RandomForestClassifier\n",
        "\n",
        "# 랜덤 포레스트 분류기 모델 생성\n",
        "random_forest_model = RandomForestClassifier(random_state=201935213)\n",
        "\n",
        "# 모델 훈련\n",
        "random_forest_model.fit(X_train[selected_features], y_train)\n",
        "\n",
        "# 훈련 데이터에 대한 예측\n",
        "train_predictions = random_forest_model.predict(X_train[selected_features])\n",
        "\n",
        "# 검증 데이터에 대한 예측\n",
        "val_predictions = random_forest_model.predict(X_val[selected_features])\n",
        "\n",
        "# 정확도 출력\n",
        "train_accuracy = accuracy_score(y_train, train_predictions)\n",
        "val_accuracy = accuracy_score(y_val, val_predictions)\n",
        "\n",
        "print(\"훈련 데이터 정확도:\", train_accuracy)\n",
        "print(\"검증 데이터 정확도:\", val_accuracy)\n"
      ],
      "metadata": {
        "colab": {
          "base_uri": "https://localhost:8080/"
        },
        "id": "v6yCcL30ytJ7",
        "outputId": "fe45dcf7-55a5-40c9-bffa-564a61311a59"
      },
      "execution_count": 21,
      "outputs": [
        {
          "output_type": "stream",
          "name": "stdout",
          "text": [
            "훈련 데이터 정확도: 0.9803370786516854\n",
            "검증 데이터 정확도: 0.8435754189944135\n"
          ]
        }
      ]
    },
    {
      "cell_type": "markdown",
      "source": [
        "# 히스토그램기반 그래디언트 부스팅\n",
        "히스토그램 기반 그래디언트 부스팅 분류기 모델을 생성하고 훈련 데이터로 모델을 훈련시키며, 훈련 및 검증 데이터에 대한 정확도를 출력합니다. 이를 통해 모델의 성능을 확인할 수 있습니다. 나중에 하이퍼파라미터 최적화를 위해 그리드 서치 또는 랜덤 서치를 적용할 수 있습니다."
      ],
      "metadata": {
        "id": "dpd0p3FczF_Y"
      }
    },
    {
      "cell_type": "code",
      "source": [
        "from sklearn.experimental import enable_hist_gradient_boosting\n",
        "from sklearn.ensemble import HistGradientBoostingClassifier\n",
        "\n",
        "# 히스토그램 기반 그래디언트 부스팅 분류기 모델 생성\n",
        "hist_gradient_boosting_model = HistGradientBoostingClassifier(random_state=201935213)\n",
        "\n",
        "# 모델 훈련\n",
        "hist_gradient_boosting_model.fit(X_train[selected_features], y_train)\n",
        "\n",
        "# 훈련 데이터에 대한 예측\n",
        "train_predictions = hist_gradient_boosting_model.predict(X_train[selected_features])\n",
        "\n",
        "# 검증 데이터에 대한 예측\n",
        "val_predictions = hist_gradient_boosting_model.predict(X_val[selected_features])\n",
        "\n",
        "# 정확도 출력\n",
        "train_accuracy = accuracy_score(y_train, train_predictions)\n",
        "val_accuracy = accuracy_score(y_val, val_predictions)\n",
        "\n",
        "print(\"훈련 데이터 정확도:\", train_accuracy)\n",
        "print(\"검증 데이터 정확도:\", val_accuracy)\n"
      ],
      "metadata": {
        "colab": {
          "base_uri": "https://localhost:8080/"
        },
        "id": "DUKPXJ1VzBB2",
        "outputId": "3609837c-d522-4a05-ae04-80b8930e44f9"
      },
      "execution_count": 23,
      "outputs": [
        {
          "output_type": "stream",
          "name": "stdout",
          "text": [
            "훈련 데이터 정확도: 0.9396067415730337\n",
            "검증 데이터 정확도: 0.8715083798882681\n"
          ]
        }
      ]
    }
  ]
}